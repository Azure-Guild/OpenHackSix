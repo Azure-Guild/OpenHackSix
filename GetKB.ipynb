{
  "cells": [
    {
      "cell_type": "code",
      "source": [
        "import http.client, os, urllib.parse, json, time, sys\r\n",
        "\r\n",
        "# Represents the various elements used to create HTTP request path for QnA Maker \r\n",
        "#operations.\r\n",
        "# Replace this with a valid subscription key.\r\n",
        "# User host = '<your-resource-name>.cognitiveservices.azure.com' \r\n",
        "host = 'maggietravelqa.cognitiveservices.azure.com'\r\n",
        "subscription_key = 'be4c6a1c-ac6d-4ce8-8f52-a7e02f789e1b'\r\n",
        "get_kb_method = '/qnamaker/v4.0/knowledgebases/'\r\n",
        "\r\n",
        "try:\r\n",
        "    headers = {\r\n",
        "    'Ocp-Apim-Subscription-Key': subscription_key,\r\n",
        "    'Content-Type': 'application/json'\r\n",
        "    }\r\n",
        "\r\n",
        "    conn = http.client.HTTPSConnection(host)\r\n",
        "    conn.request (\"GET\", get_kb_method, None, headers)\r\n",
        "\r\n",
        "    response = conn.getresponse()\r\n",
        "    data = response.read().decode(\"UTF-8\")\r\n",
        "    result = None\r\n",
        "    if len(data) > 0:\r\n",
        "        result = json.loads(data)\r\n",
        "        print \r\n",
        "        #print(json.dumps(result, sort_keys=True, indent=2))\r\n",
        "    # Note status code 204 means success.\r\n",
        "    KB_id = result[\"knowledgebases\"][0][\"id\"]\r\n",
        "    print(response.status)\r\n",
        "    print(KB_id)\r\n",
        "\r\n",
        "except :\r\n",
        "    print (\"Unexpected error:\", sys.exc_info()[0])\r\n",
        "    print (\"Unexpected error:\", sys.exc_info()[1])"
      ],
      "outputs": [
        {
          "output_type": "stream",
          "name": "stdout",
          "text": "Unexpected error: <class 'KeyError'>\nUnexpected error: 'knowledgebases'\n"
        }
      ],
      "execution_count": 3,
      "metadata": {
        "gather": {
          "logged": 1642531099533
        }
      }
    },
    {
      "cell_type": "code",
      "source": [],
      "outputs": [],
      "execution_count": null,
      "metadata": {
        "jupyter": {
          "source_hidden": false,
          "outputs_hidden": false
        },
        "nteract": {
          "transient": {
            "deleting": false
          }
        }
      }
    }
  ],
  "metadata": {
    "kernelspec": {
      "name": "python3-azureml",
      "language": "python",
      "display_name": "Python 3.6 - AzureML"
    },
    "language_info": {
      "name": "python",
      "version": "3.6.9",
      "mimetype": "text/x-python",
      "codemirror_mode": {
        "name": "ipython",
        "version": 3
      },
      "pygments_lexer": "ipython3",
      "nbconvert_exporter": "python",
      "file_extension": ".py"
    },
    "kernel_info": {
      "name": "python3-azureml"
    },
    "microsoft": {
      "host": {
        "AzureML": {
          "notebookHasBeenCompleted": true
        }
      }
    },
    "nteract": {
      "version": "nteract-front-end@1.0.0"
    }
  },
  "nbformat": 4,
  "nbformat_minor": 2
}