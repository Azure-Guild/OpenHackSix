{
  "cells": [
    {
      "cell_type": "markdown",
      "source": [
        "https://raw.githubusercontent.com/Azure-Samples/cognitive-services-quickstart-code/master/python/QnAMaker/rest/query-kb.py\r\n",
        "\r\n",
        "https://raw.githubusercontent.com/Azure-Samples/cognitive-services-qnamaker-python/master/documentation-samples/quickstarts/get-answer/get-answer-3x.py\r\n",
        "\r\n",
        "https://www.qnamaker.ai/\r\n",
        "\r\n",
        "https://portal.azure.com/\r\n"
      ],
      "metadata": {
        "nteract": {
          "transient": {
            "deleting": false
          }
        }
      }
    },
    {
      "cell_type": "code",
      "source": [
        "import http.client, urllib.parse, json, time, sys, requests"
      ],
      "outputs": [],
      "execution_count": 23,
      "metadata": {
        "gather": {
          "logged": 1642533250957
        }
      }
    },
    {
      "cell_type": "code",
      "source": [
        "subscription_key = 'PASTE_YOUR_QNA_MAKER_AUTHORING_SUBSCRIPTION_KEY_HERE'\r\n",
        "host = 'maggietravelqa.azurewebsites.net'; \r\n",
        "# Authorization endpoint key From Publish Page\r\n",
        "endpoint_key = \"4caa5046ddd34335b971d3663fffa1f1\";\r\n",
        "# Found on QNAMaker page\r\n",
        "kbid = '3e18cc2d-65f1-4230-bda3-3cf5894bc394'\r\n",
        "route = \"/qnamaker/knowledgebases/\" + kbid + \"/generateAnswer\";\r\n",
        "question = \"{'question': 'Why Margie’s Travel?','top': 3}\";\r\n",
        "headers = {\r\n",
        "'Authorization': 'EndpointKey ' + endpoint_key,\r\n",
        "'Content-Type': 'application/json'\r\n",
        "}"
      ],
      "outputs": [],
      "execution_count": 24,
      "metadata": {
        "jupyter": {
          "source_hidden": false,
          "outputs_hidden": false
        },
        "nteract": {
          "transient": {
            "deleting": false
          }
        },
        "gather": {
          "logged": 1642533252030
        }
      }
    },
    {
      "cell_type": "code",
      "source": [
        "try:\r\n",
        "  conn = http.client.HTTPSConnection(host,port=443)\r\n",
        "  conn.request (\"POST\", route,  question, headers)\r\n",
        "  response = conn.getresponse ()\r\n",
        "  answer = response.read ()\r\n",
        "  print(json.dumps(json.loads(answer), indent=4))\r\n",
        "\r\n",
        "except :\r\n",
        "    print (\"Unexpected error:\", sys.exc_info()[0])\r\n",
        "    print (\"Unexpected error:\", sys.exc_info()[1])"
      ],
      "outputs": [
        {
          "output_type": "stream",
          "name": "stdout",
          "text": "Unexpected error: <class 'UnicodeEncodeError'>\nUnexpected error: 'latin-1' codec can't encode character '\\u2019' in position 24: Body ('’') is not valid Latin-1. Use body.encode('utf-8') if you want to send it encoded in UTF-8.\n"
        }
      ],
      "execution_count": 25,
      "metadata": {
        "jupyter": {
          "source_hidden": false,
          "outputs_hidden": false
        },
        "nteract": {
          "transient": {
            "deleting": false
          }
        },
        "gather": {
          "logged": 1642533253470
        }
      }
    },
    {
      "cell_type": "code",
      "source": [
        "%%bash\r\n",
        "curl -X POST https://maggietravelqa.azurewebsites.net/qnamaker/knowledgebases/be4c6a1c-ac6d-4ce8-8f52-a7e02f789e1b/generateAnswer -H \"Authorization: EndpointKey 4caa5046ddd34335b971d3663fffa1f1\" -H \"Content-type: application/json\" -d \"{'top':30, 'question':'size','strictFilters': [{'name':'service','value':'qna_maker'}]}\""
      ],
      "outputs": [
        {
          "output_type": "stream",
          "name": "stdout",
          "text": "{\r\n  \"error\": {\r\n    \"code\": \"Unauthorized\",\r\n    \"message\": \"Authorization Failed\"\r\n  }\r\n}"
        },
        {
          "output_type": "stream",
          "name": "stderr",
          "text": "  % Total    % Received % Xferd  Average Speed   Time    Time     Time  Current\n                                 Dload  Upload   Total   Spent    Left  Speed\n\r  0     0    0     0    0     0      0      0 --:--:-- --:--:-- --:--:--     0\r100   178    0    91  100    87    705    674 --:--:-- --:--:-- --:--:--  1379\n"
        }
      ],
      "execution_count": 7,
      "metadata": {
        "jupyter": {
          "source_hidden": false,
          "outputs_hidden": false
        },
        "nteract": {
          "transient": {
            "deleting": false
          }
        }
      }
    },
    {
      "cell_type": "code",
      "source": [
        "# <dependencies>\r\n",
        "import http.client, json, os, sys\r\n",
        "from urllib.parse import urlparse\r\n",
        "# </dependencies>\r\n",
        "\r\n",
        "# Set the `authoring_key` and `authoring_endpoint` variables to your\r\n",
        "# QnA Maker authoring subscription key and endpoint.\r\n",
        "#\r\n",
        "# These values can be found in the Azure portal (ms.portal.azure.com/).\r\n",
        "# Look up your QnA Maker resource. Then, in the \"Resource management\"\r\n",
        "# section, find the \"Keys and Endpoint\" page.\r\n",
        "#\r\n",
        "# The value of `authoring_endpoint` has the format https://YOUR-RESOURCE-NAME.cognitiveservices.azure.com.\r\n",
        "#\r\n",
        "# Set the `runtime_endpoint` variable to your QnA Maker runtime endpoint.\r\n",
        "# The value of `runtime_endpoint` has the format https://YOUR-RESOURCE-NAME.azurewebsites.net.\r\n",
        "#\r\n",
        "# Set the `kb_id` variable to the ID of a knowledge base you have\r\n",
        "# previously created.\r\n",
        "\r\n",
        "# <constants>\r\n",
        "# Note http.client.HTTPSConnection wants only the host name, not the protocol (that is, 'https://')\r\n",
        "authoring_endpoint = urlparse('https://maggietravelqa.cognitiveservices.azure.com/').netloc\r\n",
        "\r\n",
        "runtime_endpoint = urlparse('https://maggietravelqa.azurewebsites.net/').netloc\r\n",
        "\r\n",
        "get_endpoint_key_method = \"/qnamaker/v4.0/endpointKeys\"\r\n",
        "\r\n",
        "query_kb_method = \"/qnamaker/knowledgebases/\" + kbid + \"/generateAnswer\";\r\n",
        "\r\n",
        "# JSON format for passing question to service\r\n",
        "question = \"{'question': 'Is the QnA Maker Service free?','top': 3}\";\r\n",
        "# </constants>\r\n",
        "\r\n",
        "# <main>\r\n",
        "try:\r\n",
        "\tauthoring_conn = http.client.HTTPSConnection(authoring_endpoint,port=443)\r\n",
        "\theaders = {\r\n",
        "\t\t'Ocp-Apim-Subscription-Key': subscription_key\r\n",
        "\t}\r\n",
        "\tauthoring_conn.request (\"GET\", get_endpoint_key_method, \"\", headers)\r\n",
        "\tresponse = authoring_conn.getresponse ()\r\n",
        "\tendpoint_key = json.loads(response.read())[\"primaryEndpointKey\"]\r\n",
        "\r\n",
        "\truntime_conn = http.client.HTTPSConnection(runtime_endpoint,port=443)\r\n",
        "\theaders = {\r\n",
        "\t\t# Note this differs from the \"Ocp-Apim-Subscription-Key\"/<subscription key> used by most Cognitive Services.\r\n",
        "\t\t'Authorization': 'EndpointKey ' + endpoint_key,\r\n",
        "\t\t'Content-Type': 'application/json'\r\n",
        "\t}\r\n",
        "\truntime_conn.request (\"POST\", query_kb_method, question, headers)\r\n",
        "\tresponse = runtime_conn.getresponse ()\r\n",
        "\tanswer = response.read ()\r\n",
        "\tprint(json.dumps(json.loads(answer), indent=4))\r\n",
        "\r\n",
        "except :\r\n",
        "    print (\"Unexpected error:\", sys.exc_info()[0])\r\n",
        "    print (\"Unexpected error:\", sys.exc_info()[1])\r\n",
        "# </main>"
      ],
      "outputs": [
        {
          "output_type": "stream",
          "name": "stdout",
          "text": "Unexpected error: <class 'KeyError'>\nUnexpected error: 'primaryEndpointKey'\n"
        }
      ],
      "execution_count": 26,
      "metadata": {
        "jupyter": {
          "source_hidden": false,
          "outputs_hidden": false
        },
        "nteract": {
          "transient": {
            "deleting": false
          }
        },
        "gather": {
          "logged": 1642533511204
        }
      }
    },
    {
      "cell_type": "code",
      "source": [
        "%%bash\r\n",
        "curl -X POST https://maggietravelqa.azurewebsites.net/qnamaker/knowledgebases/3e18cc2d-65f1-4230-bda3-3cf5894bc394/generateAnswer -H \"Authorization: EndpointKey be4c6a1c-ac6d-4ce8-8f52-a7e02f789e1b\" -H \"Content-type: application/json\" -d \"{'question':'Why Margie’s Travel'}\""
      ],
      "outputs": [
        {
          "output_type": "stream",
          "name": "stdout",
          "text": "{\"answers\":[{\"questions\":[\"Why Margie’s Travel\"],\"answer\":\"**Why Margie’s Travel**\\n\\nMargie’s Travel is a full-service travel agent, with years of experience in the worldwide tourism industry.\",\"score\":100.0,\"id\":2,\"source\":\"Margies Travel FAQ.docx\",\"isDocumentText\":false,\"metadata\":[],\"context\":{\"isContextOnly\":false,\"prompts\":[]}}],\"activeLearningEnabled\":false}"
        },
        {
          "output_type": "stream",
          "name": "stderr",
          "text": "  % Total    % Received % Xferd  Average Speed   Time    Time     Time  Current\n                                 Dload  Upload   Total   Spent    Left  Speed\n\r  0     0    0     0    0     0      0      0 --:--:-- --:--:-- --:--:--     0\r100   409  100   373  100    36    747     72 --:--:-- --:--:-- --:--:--   819\n"
        }
      ],
      "execution_count": 20,
      "metadata": {
        "jupyter": {
          "source_hidden": false,
          "outputs_hidden": false
        },
        "nteract": {
          "transient": {
            "deleting": false
          }
        }
      }
    },
    {
      "cell_type": "code",
      "source": [],
      "outputs": [],
      "execution_count": null,
      "metadata": {
        "jupyter": {
          "source_hidden": false,
          "outputs_hidden": false
        },
        "nteract": {
          "transient": {
            "deleting": false
          }
        }
      }
    }
  ],
  "metadata": {
    "kernelspec": {
      "name": "python3-azureml",
      "language": "python",
      "display_name": "Python 3.6 - AzureML"
    },
    "language_info": {
      "name": "python",
      "version": "3.6.9",
      "mimetype": "text/x-python",
      "codemirror_mode": {
        "name": "ipython",
        "version": 3
      },
      "pygments_lexer": "ipython3",
      "nbconvert_exporter": "python",
      "file_extension": ".py"
    },
    "kernel_info": {
      "name": "python3-azureml"
    },
    "nteract": {
      "version": "nteract-front-end@1.0.0"
    },
    "microsoft": {
      "host": {
        "AzureML": {
          "notebookHasBeenCompleted": true
        }
      }
    }
  },
  "nbformat": 4,
  "nbformat_minor": 2
}