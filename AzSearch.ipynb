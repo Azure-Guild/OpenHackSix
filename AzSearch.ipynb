{
  "cells": [
    {
      "cell_type": "markdown",
      "source": [
        "The complete list of available packages can be found at:\r\n",
        "    https://aka.ms/azsdk/python/all"
      ],
      "metadata": {
        "nteract": {
          "transient": {
            "deleting": false
          }
        }
      }
    },
    {
      "cell_type": "code",
      "source": [
        "pip install azure-search-documents"
      ],
      "outputs": [
        {
          "output_type": "stream",
          "name": "stdout",
          "text": "Collecting azure-search-documents\n  Downloading azure_search_documents-11.2.1-py2.py3-none-any.whl (240 kB)\n\u001b[K     |████████████████████████████████| 240 kB 11.3 MB/s eta 0:00:01\n\u001b[?25hRequirement already satisfied: msrest>=0.6.21 in /anaconda/envs/azureml_py36/lib/python3.6/site-packages (from azure-search-documents) (0.6.21)\nRequirement already satisfied: typing-extensions in /anaconda/envs/azureml_py36/lib/python3.6/site-packages (from azure-search-documents) (3.10.0.2)\nRequirement already satisfied: azure-common~=1.1 in /anaconda/envs/azureml_py36/lib/python3.6/site-packages (from azure-search-documents) (1.1.27)\nRequirement already satisfied: azure-core<2.0.0,>=1.14.0 in /anaconda/envs/azureml_py36/lib/python3.6/site-packages (from azure-search-documents) (1.19.1)\nRequirement already satisfied: requests~=2.16 in /anaconda/envs/azureml_py36/lib/python3.6/site-packages (from msrest>=0.6.21->azure-search-documents) (2.26.0)\nRequirement already satisfied: requests-oauthlib>=0.5.0 in /anaconda/envs/azureml_py36/lib/python3.6/site-packages (from msrest>=0.6.21->azure-search-documents) (1.3.0)\nRequirement already satisfied: isodate>=0.6.0 in /anaconda/envs/azureml_py36/lib/python3.6/site-packages (from msrest>=0.6.21->azure-search-documents) (0.6.0)\nRequirement already satisfied: certifi>=2017.4.17 in /anaconda/envs/azureml_py36/lib/python3.6/site-packages (from msrest>=0.6.21->azure-search-documents) (2021.10.8)\nRequirement already satisfied: six>=1.11.0 in /anaconda/envs/azureml_py36/lib/python3.6/site-packages (from azure-core<2.0.0,>=1.14.0->azure-search-documents) (1.16.0)\nRequirement already satisfied: charset-normalizer~=2.0.0; python_version >= \"3\" in /anaconda/envs/azureml_py36/lib/python3.6/site-packages (from requests~=2.16->msrest>=0.6.21->azure-search-documents) (2.0.7)\nRequirement already satisfied: urllib3<1.27,>=1.21.1 in /anaconda/envs/azureml_py36/lib/python3.6/site-packages (from requests~=2.16->msrest>=0.6.21->azure-search-documents) (1.25.11)\nRequirement already satisfied: idna<4,>=2.5; python_version >= \"3\" in /anaconda/envs/azureml_py36/lib/python3.6/site-packages (from requests~=2.16->msrest>=0.6.21->azure-search-documents) (3.3)\nRequirement already satisfied: oauthlib>=3.0.0 in /anaconda/envs/azureml_py36/lib/python3.6/site-packages (from requests-oauthlib>=0.5.0->msrest>=0.6.21->azure-search-documents) (3.1.1)\nInstalling collected packages: azure-search-documents\nSuccessfully installed azure-search-documents-11.2.1\nNote: you may need to restart the kernel to use updated packages.\n"
        }
      ],
      "execution_count": 2,
      "metadata": {
        "jupyter": {
          "source_hidden": false,
          "outputs_hidden": false
        },
        "nteract": {
          "transient": {
            "deleting": false
          }
        },
        "gather": {
          "logged": 1642542071268
        }
      }
    },
    {
      "cell_type": "code",
      "source": [
        "import os\r\n",
        "from azure.core.credentials import AzureKeyCredential\r\n",
        "from azure.search.documents import SearchClient\r\n",
        "\r\n",
        "index_name = \"margiedocs\"\r\n",
        "# Get the service endpoint and API key from the environment\r\n",
        "endpoint = \"https://maggietravelqa-astgra6nyukhoda.search.windows.net\"\r\n",
        "key = \"3A13A0384802E8F06DAEA6E7F0F0F8BF\"\r\n",
        "\r\n",
        "# Create a client\r\n",
        "credential = AzureKeyCredential(key)\r\n",
        "client = SearchClient(endpoint=endpoint,\r\n",
        "                      index_name=index_name,\r\n",
        "                      credential=credential)\r\n",
        "\r\n",
        "results = client.search(search_text=\"London + \\\"Buckingham Palace\\\"\", include_total_count=True)\r\n",
        "print ('Total Documents Matching Query:', results.get_count())\r\n",
        "for result in results:\r\n",
        "    print(\"{}: {})\".format(result[\"url\"], result[\"id\"]))"
      ],
      "outputs": [
        {
          "output_type": "stream",
          "name": "stdout",
          "text": "Total Documents Matching Query: 2\nhttps://margiecognitivesearch.blob.core.windows.net/rawfiles/collateral/London%20Brochure.pdf: aHR0cHM6Ly9tYXJnaWVjb2duaXRpdmVzZWFyY2guYmxvYi5jb3JlLndpbmRvd3MubmV0L3Jhd2ZpbGVzL2NvbGxhdGVyYWwvTG9uZG9uJTIwQnJvY2h1cmUucGRm0)\nhttps://margiecognitivesearch.blob.core.windows.net/rawfiles/reviews/201811.pdf: aHR0cHM6Ly9tYXJnaWVjb2duaXRpdmVzZWFyY2guYmxvYi5jb3JlLndpbmRvd3MubmV0L3Jhd2ZpbGVzL3Jldmlld3MvMjAxODExLnBkZg2)\n"
        }
      ],
      "execution_count": 7,
      "metadata": {
        "gather": {
          "logged": 1642605965319
        }
      }
    },
    {
      "cell_type": "code",
      "source": [],
      "outputs": [],
      "execution_count": null,
      "metadata": {
        "jupyter": {
          "source_hidden": false,
          "outputs_hidden": false
        },
        "nteract": {
          "transient": {
            "deleting": false
          }
        }
      }
    }
  ],
  "metadata": {
    "kernelspec": {
      "name": "python3",
      "language": "python",
      "display_name": "Python 3"
    },
    "language_info": {
      "name": "python",
      "version": "3.6.9",
      "mimetype": "text/x-python",
      "codemirror_mode": {
        "name": "ipython",
        "version": 3
      },
      "pygments_lexer": "ipython3",
      "nbconvert_exporter": "python",
      "file_extension": ".py"
    },
    "kernel_info": {
      "name": "python3"
    },
    "nteract": {
      "version": "nteract-front-end@1.0.0"
    }
  },
  "nbformat": 4,
  "nbformat_minor": 2
}